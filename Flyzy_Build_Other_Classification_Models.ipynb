{
 "cells": [
  {
   "cell_type": "code",
   "execution_count": 1,
   "id": "5204b257-4773-4e30-b994-6babf8f6168e",
   "metadata": {
    "jupyter": {
     "source_hidden": true
    },
    "tags": []
   },
   "outputs": [],
   "source": [
    "# importing libraries  \n",
    "import pandas as pd\n",
    "from sklearn.model_selection import train_test_split\n",
    "from sklearn.tree import DecisionTreeClassifier\n",
    "from sklearn.ensemble import RandomForestClassifier\n",
    "from sklearn.metrics import classification_report, confusion_matrix, roc_auc_score\n",
    "from sklearn.preprocessing import OneHotEncoder\n",
    "from sklearn.compose import ColumnTransformer\n",
    "from sklearn.pipeline import Pipeline\n",
    "from sklearn.impute import SimpleImputer\n",
    "import matplotlib.pyplot as plt\n",
    "import seaborn as sns"
   ]
  },
  {
   "cell_type": "code",
   "execution_count": 2,
   "id": "6670d3f2-69d7-4081-a201-b7ff7d562025",
   "metadata": {},
   "outputs": [],
   "source": [
    "df = pd.read_csv('Flyzy Flight Cancellation - Preprocessed.csv')"
   ]
  },
  {
   "cell_type": "code",
   "execution_count": 3,
   "id": "95de4391-13d6-42e1-91ec-71ca705061a0",
   "metadata": {},
   "outputs": [
    {
     "data": {
      "text/html": [
       "<div>\n",
       "<style scoped>\n",
       "    .dataframe tbody tr th:only-of-type {\n",
       "        vertical-align: middle;\n",
       "    }\n",
       "\n",
       "    .dataframe tbody tr th {\n",
       "        vertical-align: top;\n",
       "    }\n",
       "\n",
       "    .dataframe thead th {\n",
       "        text-align: right;\n",
       "    }\n",
       "</style>\n",
       "<table border=\"1\" class=\"dataframe\">\n",
       "  <thead>\n",
       "    <tr style=\"text-align: right;\">\n",
       "      <th></th>\n",
       "      <th>Unnamed: 0</th>\n",
       "      <th>Flight ID</th>\n",
       "      <th>Airline</th>\n",
       "      <th>Flight_Distance</th>\n",
       "      <th>Origin_Airport</th>\n",
       "      <th>Destination_Airport</th>\n",
       "      <th>Scheduled_Departure_Time</th>\n",
       "      <th>Day_of_Week</th>\n",
       "      <th>Month</th>\n",
       "      <th>Airplane_Type</th>\n",
       "      <th>Weather_Score</th>\n",
       "      <th>Previous_Flight_Delay_Minutes</th>\n",
       "      <th>Airline_Rating</th>\n",
       "      <th>Passenger_Load</th>\n",
       "      <th>Flight_Cancelled</th>\n",
       "    </tr>\n",
       "  </thead>\n",
       "  <tbody>\n",
       "    <tr>\n",
       "      <th>0</th>\n",
       "      <td>0</td>\n",
       "      <td>7319483</td>\n",
       "      <td>Airline D</td>\n",
       "      <td>475</td>\n",
       "      <td>Airport 3</td>\n",
       "      <td>Airport 2</td>\n",
       "      <td>4</td>\n",
       "      <td>6</td>\n",
       "      <td>1</td>\n",
       "      <td>Type C</td>\n",
       "      <td>0.225122</td>\n",
       "      <td>5.0</td>\n",
       "      <td>2.151974</td>\n",
       "      <td>0.477202</td>\n",
       "      <td>0</td>\n",
       "    </tr>\n",
       "    <tr>\n",
       "      <th>1</th>\n",
       "      <td>1</td>\n",
       "      <td>4791965</td>\n",
       "      <td>Airline E</td>\n",
       "      <td>538</td>\n",
       "      <td>Airport 5</td>\n",
       "      <td>Airport 4</td>\n",
       "      <td>12</td>\n",
       "      <td>1</td>\n",
       "      <td>6</td>\n",
       "      <td>Type B</td>\n",
       "      <td>0.060346</td>\n",
       "      <td>68.0</td>\n",
       "      <td>1.600779</td>\n",
       "      <td>0.159718</td>\n",
       "      <td>1</td>\n",
       "    </tr>\n",
       "    <tr>\n",
       "      <th>2</th>\n",
       "      <td>2</td>\n",
       "      <td>2991718</td>\n",
       "      <td>Airline C</td>\n",
       "      <td>565</td>\n",
       "      <td>Airport 1</td>\n",
       "      <td>Airport 2</td>\n",
       "      <td>17</td>\n",
       "      <td>3</td>\n",
       "      <td>9</td>\n",
       "      <td>Type C</td>\n",
       "      <td>0.093920</td>\n",
       "      <td>18.0</td>\n",
       "      <td>4.406848</td>\n",
       "      <td>0.256803</td>\n",
       "      <td>0</td>\n",
       "    </tr>\n",
       "    <tr>\n",
       "      <th>3</th>\n",
       "      <td>3</td>\n",
       "      <td>4220106</td>\n",
       "      <td>Airline E</td>\n",
       "      <td>658</td>\n",
       "      <td>Airport 5</td>\n",
       "      <td>Airport 3</td>\n",
       "      <td>1</td>\n",
       "      <td>1</td>\n",
       "      <td>8</td>\n",
       "      <td>Type B</td>\n",
       "      <td>0.656750</td>\n",
       "      <td>13.0</td>\n",
       "      <td>0.998757</td>\n",
       "      <td>0.504077</td>\n",
       "      <td>1</td>\n",
       "    </tr>\n",
       "    <tr>\n",
       "      <th>4</th>\n",
       "      <td>4</td>\n",
       "      <td>2263008</td>\n",
       "      <td>Airline E</td>\n",
       "      <td>566</td>\n",
       "      <td>Airport 2</td>\n",
       "      <td>Airport 2</td>\n",
       "      <td>19</td>\n",
       "      <td>7</td>\n",
       "      <td>12</td>\n",
       "      <td>Type E</td>\n",
       "      <td>0.505211</td>\n",
       "      <td>4.0</td>\n",
       "      <td>3.806206</td>\n",
       "      <td>0.019638</td>\n",
       "      <td>0</td>\n",
       "    </tr>\n",
       "  </tbody>\n",
       "</table>\n",
       "</div>"
      ],
      "text/plain": [
       "   Unnamed: 0  Flight ID    Airline  Flight_Distance Origin_Airport  \\\n",
       "0           0    7319483  Airline D              475      Airport 3   \n",
       "1           1    4791965  Airline E              538      Airport 5   \n",
       "2           2    2991718  Airline C              565      Airport 1   \n",
       "3           3    4220106  Airline E              658      Airport 5   \n",
       "4           4    2263008  Airline E              566      Airport 2   \n",
       "\n",
       "  Destination_Airport  Scheduled_Departure_Time  Day_of_Week  Month  \\\n",
       "0           Airport 2                         4            6      1   \n",
       "1           Airport 4                        12            1      6   \n",
       "2           Airport 2                        17            3      9   \n",
       "3           Airport 3                         1            1      8   \n",
       "4           Airport 2                        19            7     12   \n",
       "\n",
       "  Airplane_Type  Weather_Score  Previous_Flight_Delay_Minutes  Airline_Rating  \\\n",
       "0        Type C       0.225122                            5.0        2.151974   \n",
       "1        Type B       0.060346                           68.0        1.600779   \n",
       "2        Type C       0.093920                           18.0        4.406848   \n",
       "3        Type B       0.656750                           13.0        0.998757   \n",
       "4        Type E       0.505211                            4.0        3.806206   \n",
       "\n",
       "   Passenger_Load  Flight_Cancelled  \n",
       "0        0.477202                 0  \n",
       "1        0.159718                 1  \n",
       "2        0.256803                 0  \n",
       "3        0.504077                 1  \n",
       "4        0.019638                 0  "
      ]
     },
     "execution_count": 3,
     "metadata": {},
     "output_type": "execute_result"
    }
   ],
   "source": [
    "df.head()"
   ]
  },
  {
   "cell_type": "code",
   "execution_count": 4,
   "id": "6c5fb0f8-a726-4172-a92e-4d6af9ee5558",
   "metadata": {},
   "outputs": [],
   "source": [
    "target = 'Flight_Cancelled'\n",
    "X = df.drop(columns=[target])\n",
    "y = df[target]"
   ]
  },
  {
   "cell_type": "code",
   "execution_count": 5,
   "id": "ce142fca-c44d-4175-9fb0-b5541bd72bfa",
   "metadata": {},
   "outputs": [],
   "source": [
    "# Preprocessing: handle categorical features\n",
    "categorical_features = X.select_dtypes(include=['object']).columns.tolist()\n",
    "numerical_features = X.select_dtypes(include=['int64', 'float64']).columns.tolist()"
   ]
  },
  {
   "cell_type": "code",
   "execution_count": 6,
   "id": "67e3a183-2ad7-474d-84d7-fb6408d5895f",
   "metadata": {},
   "outputs": [],
   "source": [
    "# Create a column transformer for preprocessing\n",
    "preprocessor = ColumnTransformer(\n",
    "    transformers=[\n",
    "        ('num', SimpleImputer(strategy='mean'), numerical_features),\n",
    "        ('cat', OneHotEncoder(), categorical_features)\n",
    "    ]\n",
    ")"
   ]
  },
  {
   "cell_type": "code",
   "execution_count": 7,
   "id": "5f9e380c-eb1b-47a8-9b50-0555bb7285fa",
   "metadata": {},
   "outputs": [],
   "source": [
    "# Spliting the data into train and test sets\n",
    "X_train, X_test, y_train, y_test = train_test_split(X, y, test_size=0.2, random_state=42)"
   ]
  },
  {
   "cell_type": "code",
   "execution_count": 9,
   "id": "e16102fc-25a4-476b-90fa-a9e270b1d128",
   "metadata": {},
   "outputs": [],
   "source": [
    "# Define models to evaluate\n",
    "models = {\n",
    "    'Decision Tree': DecisionTreeClassifier(),\n",
    "    'Random Forest': RandomForestClassifier(),\n",
    "}\n",
    "\n",
    "results = {}"
   ]
  },
  {
   "cell_type": "code",
   "execution_count": 18,
   "id": "abb56078-366d-49e7-98d2-07fe6f60d76d",
   "metadata": {},
   "outputs": [],
   "source": [
    "# Build and evaluate models\n",
    "for model_name, model in models.items():\n",
    "    # Create a pipeline with preprocessing and model\n",
    "    pipeline = Pipeline(steps=[('preprocessor', preprocessor),\n",
    "                                ('classifier', model)])\n",
    "    \n",
    "    # Fit the model\n",
    "    pipeline.fit(X_train, y_train)\n",
    "    \n",
    "      # Predict on test data\n",
    "    y_pred = pipeline.predict(X_test)\n",
    "    \n",
    "     # Evaluate the model\n",
    "    report = classification_report(y_test, y_pred, output_dict=True)\n",
    "    results[model_name] = {\n",
    "        'accuracy': report['accuracy'],\n",
    "        'precision': report['1']['precision'],\n",
    "        'recall': report['1']['recall'],\n",
    "        'f1-score': report['1']['f1-score'],\n",
    "        'roc_auc': roc_auc_score(y_test, pipeline.predict_proba(X_test)[:, 1])\n",
    "    }"
   ]
  },
  {
   "cell_type": "code",
   "execution_count": 19,
   "id": "607c8e20-a7ef-4c06-b731-14fd4115d272",
   "metadata": {},
   "outputs": [
    {
     "name": "stdout",
     "output_type": "stream",
     "text": [
      "               accuracy  precision   recall  f1-score   roc_auc\n",
      "Decision Tree     0.955   0.955189  0.98063  0.967742  0.939513\n",
      "Random Forest     0.985   0.997537  0.98063  0.989011  0.989428\n"
     ]
    }
   ],
   "source": [
    "# Convert results to DataFrame for easy comparison\n",
    "results_df = pd.DataFrame(results).T\n",
    "print(results_df)"
   ]
  },
  {
   "cell_type": "code",
   "execution_count": 20,
   "id": "db0c5ec3-d7c4-4bd1-a4c4-33478f4bd59f",
   "metadata": {},
   "outputs": [
    {
     "data": {
      "image/png": "[encoded data removed]",
      "text/plain": [
       "<Figure size 432x288 with 1 Axes>"
      ]
     },
     "metadata": {
      "needs_background": "light"
     },
     "output_type": "display_data"
    }
   ],
   "source": [
    "# Visualize results\n",
    "results_df[['accuracy', 'precision', 'recall', 'f1-score', 'roc_auc']].plot(kind='bar')\n",
    "plt.title('Model Performance Comparison')\n",
    "plt.ylabel('Score')\n",
    "plt.xticks(rotation=45)\n",
    "plt.show()"
   ]
  },
  {
   "cell_type": "markdown",
   "id": "dcf063a6-ab44-4be9-9393-eafc13731c6b",
   "metadata": {},
   "source": [
    "##### DECISION TREE\n",
    "\n",
    "A clear picture of the decision-making process based on feature values is given by the plot. It displays the characteristics that have the biggest impact on flight cancellations, with divisions depending on thresholds that represent important decision points. This openness can aid in the comprehension of the logic of the model by stakeholders.\n",
    "\n",
    "##### Random Forest\n",
    "\n",
    "Random Forest reduces the overfitting risk that single Decision Trees usually have by averaging the outputs of multiple trees. By using an ensemble approach, predictions become more reliable and show better generalisation abilities on untested data."
   ]
  },
  {
   "cell_type": "code",
   "execution_count": null,
   "id": "9543bf6f-5bb8-4a68-832c-dd96de16d825",
   "metadata": {},
   "outputs": [],
   "source": []
  }
 ],
 "metadata": {
  "kernelspec": {
   "display_name": "Python 3 [3.10]",
   "language": "python",
   "name": "python3"
  },
  "language_info": {
   "codemirror_mode": {
    "name": "ipython",
    "version": 3
   },
   "file_extension": ".py",
   "mimetype": "text/x-python",
   "name": "python",
   "nbconvert_exporter": "python",
   "pygments_lexer": "ipython3",
   "version": "3.10.2"
  }
 },
 "nbformat": 4,
 "nbformat_minor": 5
}
